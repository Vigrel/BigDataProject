{
 "cells": [
  {
   "cell_type": "markdown",
   "id": "0f79e38b",
   "metadata": {},
   "source": [
    "# Análise Exploratória de Dados Climáticos e de Uso do Solo\n",
    "\n",
    "- Andressa Silva de Oliveira\n",
    "- Fabrício Neri Lima\n",
    "- Isabelle Moschini Murollo\n",
    "- Vinicius Grando Eller"
   ]
  },
  {
   "cell_type": "markdown",
   "id": "e4093d28",
   "metadata": {},
   "source": [
    "## Contextualização e Importância do Tema\n",
    "\n",
    "No contexto atual, os eventos climáticos extremos têm se tornado mais frequentes e intensos, trazendo consequências devastadoras para a população, a biodiversidade e as economias mundiais. Essa tendência está relacionada às mudanças climáticas globais, as quais são influenciadas por fatores como desmatamento, urbanização crescente e emissões de gases de efeito estufa. Nesse sentido, a investigação da relação entre esses eventos e os locais onde eles ocorrem é de grande importância para compreender os impactos ambientais e socioeconômicos relacionados, permitindo o desenvolvimento de estratégias mais eficazes para a sua mitigação.\n",
    "\n",
    "Sendo assim, este projeto explora a conexão entre eventos climáticos extremos e variáveis ambientais diversas, como aumento de áreas de plantio e degradação de florestas. Para isso, foram utilizadas as seguintes bases de dados: FAO (Land Cover and Forest Area), que fornece informações detalhadas sobre cobertura terrestre e áreas florestais, e EM-DAT, que documenta desastres naturais em escala global. Essas fontes são robustas e permitem avaliar padrões globais, além de realizar comparações regionais e históricas, contribuindo para a identificação de tendências e hotspots climáticos, os quais demandam maior atenção.\n",
    "\n",
    "Dessa forma, objetiva-se, com este estudo, entender as causas e as consequências da interação entre fatores naturais e humanos e fornecer insights que possam vir a embasar políticas públicas e iniciativas sustentáveis. Ainda, a análise dessas relações é relevante nas circunstâncias atuais, em que a humanidade enfrenta desafios como o aumento das desigualdades climáticas e a necessidade de adoção de práticas ambientais mais responsáveis. Nesse sentido, este projeto busca, além de gerar insights de relevância ao contexto descrito, destacar a importância do uso da ciência de dados na geração de soluções para questões climáticas globais.\n",
    "\n",
    "\n",
    "### Origem das Bases de Dados Utilizadas\n",
    "Para o desenvolvimento das análises contidas neste projeto, utilizou-se duas bases de dados, sendo elas: FAO (Land Cover and Forest Area) e EM-DAT (Emergency Events Database). A primeira base contém dados anuais de 1992-2020 sobre o uso da terra, incluindo tipos de cobertura e índices que influenciam o clima, tendo sido publicada em 2022 pela FAOSTAT (Food and Agriculture Organization Statistics). A FAOSTAT é uma base de dados global da Organização das Nações Unidas para a Alimentação e a Agricultura (FAO) que oferece estatísticas agrícolas, alimentares e ambientais de países, desde 1961. \n",
    "\n",
    "Já a segunda base apresenta dados sobre o número e tipos de desastres naturais, agrupados anualmente, permitindo análise da frequência e intensidade de eventos climáticos ao longo do tempo, tendo sido publicada pelo EM-DAT (Emergency Events Database) em 2023. O EM-DAT é uma base global criada pelo Centro de Pesquisa sobre a Epidemiologia de Desastres (CRED), a qual registra e analisa dados sobre desastres naturais e tecnológicos."
   ]
  },
  {
   "cell_type": "markdown",
   "id": "9781bb47-f763-4105-87ad-d6625c54f2a6",
   "metadata": {},
   "source": [
    "## Montagem da base de dados\n",
    "\n",
    "O script é responsável por processar e transformar arquivos CSV contendo dados brutos em um formato mais organizado e padronizado, utilizando **Dask** para lidar de forma eficiente com grandes volumes de dados. Ele começa identificando todos os arquivos `.csv` em uma pasta especificada (`FOLDER_PATH`) e analisa os nomes das colunas desses arquivos. Durante esse processo, as colunas são renomeadas para seguir um padrão uniforme, convertendo os nomes para letras minúsculas, removendo espaços e underscores. Caso alguma coluna esperada não esteja presente em um arquivo, ela é adicionada com valores nulos (`None`).\n",
    "\n",
    "Além disso, o script separa as colunas em dois grupos: colunas gerais (como informações de identificação, por exemplo, `country`, `indicator`, etc.) e colunas específicas de anos (como `1990`, `2000`, etc.). Em seguida, ele transforma os dados de cada arquivo usando a técnica de \"melt\". Nesse processo, as colunas de anos são convertidas em linhas, criando duas novas colunas: uma chamada \"year\", que armazena o ano, e outra chamada \"feature_value\", que contém o valor da métrica correspondente. Uma nova coluna, chamada \"datasource\", também é adicionada para indicar de qual arquivo cada dado foi extraído.\n",
    "\n",
    "Depois de normalizar e transformar os dados, o script os organiza em uma tabela final. Para isso, ele agrupa as informações por país, ano e outros identificadores, e pivota os dados de forma que cada métrica (indicador combinado com sua unidade) se torne uma coluna individual. Por fim, o script exporta os resultados em dois arquivos: um arquivo intermediário (`dataConcat_silver.csv`), que contém os dados após a normalização e transformação inicial, e um arquivo final (`dataConcat_gold.csv`), que apresenta os dados consolidados e prontos para análise. Em resumo, o script organiza dados brutos de múltiplas fontes, padroniza seus formatos e os consolida em um único conjunto de dados estruturado, ideal para análises futuras."
   ]
  },
  {
   "cell_type": "markdown",
   "id": "365582eb-32e5-47a8-ad85-904f6a7b5676",
   "metadata": {},
   "source": [
    "```\n",
    "import glob\n",
    "import os\n",
    "import re\n",
    "from typing import List, Tuple\n",
    "\n",
    "import dask.dataframe as dd\n",
    "\n",
    "FOLDER_PATH = \"C:/Users/fabri/OneDrive/Area_de _trabalho/BigDataProject/data/raw\"\n",
    "OUTPUT_INTERIM = \"data/interim/dataConcat_silver.csv\"\n",
    "OUTPUT_PROCESSED = \"data/processed/dataConcat_gold.csv\"\n",
    "\n",
    "dtypes = {\"ISO2\": \"object\", \"ObjectId\": \"int64\"}\n",
    "\n",
    "\n",
    "def get_csv_files(folder_path: str) -> List[str]:\n",
    "    return glob.glob(os.path.join(folder_path, \"*.csv\"))\n",
    "\n",
    "\n",
    "def get_final_columns(folder_path: str) -> Tuple[List[str], List[str]]:\n",
    "    \"\"\"\n",
    "    Determines the final set of normalized column names and year columns\n",
    "    from the CSV files in the given folder.\n",
    "\n",
    "    Args:\n",
    "        folder_path (str): Path to the folder containing CSV files.\n",
    "\n",
    "    Returns:\n",
    "        Tuple[List[str], List[str]]:\n",
    "            - General (non-year) column names. eg: ctscode, ctsname, indicator...\n",
    "            - Year-specific column names.\n",
    "    \"\"\"\n",
    "    all_columns = set()\n",
    "\n",
    "    for path in get_csv_files(folder_path):\n",
    "        columns = dd.read_csv(path, dtype=dtypes, assume_missing=True).columns\n",
    "        all_columns.update(columns)\n",
    "\n",
    "    normalized_columns = {\n",
    "        col.lower().strip().replace(\" \", \"\").replace(\"_\", \"\") for col in all_columns\n",
    "    }\n",
    "    year_columns = {col for col in normalized_columns if re.search(r\"\\d{4}$\", col)}\n",
    "    return list(normalized_columns - year_columns), list(year_columns)\n",
    "\n",
    "\n",
    "def normalize_columns(df: dd.DataFrame, final_columns: List[str]) -> dd.DataFrame:\n",
    "    \"\"\"\n",
    "    Normalizes the columns of a DataFrame by ensuring consistent naming\n",
    "    and adding any missing columns with `None` values.\n",
    "\n",
    "    Args:\n",
    "        df (dd.DataFrame): Input DataFrame with raw column names.\n",
    "        final_columns (List[str]): List of expected column names.\n",
    "\n",
    "    Returns:\n",
    "        dd.DataFrame: DataFrame with normalized column names.\n",
    "    \"\"\"\n",
    "    df = df.rename(\n",
    "        columns=lambda col: col.lower().strip().replace(\" \", \"\").replace(\"_\", \"\")\n",
    "    )\n",
    "    for col in final_columns:\n",
    "        if col not in df.columns:\n",
    "            df[col] = None\n",
    "    return df[final_columns]\n",
    "\n",
    "\n",
    "def groupby_country(interim_df: dd.DataFrame) -> dd.DataFrame:\n",
    "    \"\"\"\n",
    "    Groups and pivots data by country, year, and indicator unit.\n",
    "\n",
    "    Args:\n",
    "        interim_df (dd.DataFrame): Input DataFrame with melted data.\n",
    "\n",
    "    Returns:\n",
    "        dd.DataFrame: Pivoted DataFrame with indicator units as columns.\n",
    "    \"\"\"\n",
    "    interim_df[\"year\"] = interim_df[\"year\"].str.replace(\"f\", \"\")\n",
    "    interim_df[\"indicator_unit\"] = (\n",
    "        interim_df[\"indicator\"].str.replace(\" \", \"\")\n",
    "        + \"_\"\n",
    "        + interim_df[\"unit\"].str.replace(\" \", \"\")\n",
    "    )\n",
    "\n",
    "    index_cols = [\"country\", \"iso2\", \"iso3\", \"year\"]\n",
    "\n",
    "    df_processed = interim_df.compute()\n",
    "    return df_processed.pivot_table(\n",
    "        index=index_cols,\n",
    "        columns=\"indicator_unit\",\n",
    "        values=\"feature_value\",\n",
    "        aggfunc=\"first\",\n",
    "    ).reset_index()\n",
    "\n",
    "\n",
    "def main():\n",
    "    general_columns, year_columns = get_final_columns(FOLDER_PATH)\n",
    "    final_columns = general_columns + year_columns\n",
    "    df_list = []\n",
    "\n",
    "    for path in get_csv_files(FOLDER_PATH):\n",
    "        df = dd.read_csv(path, dtype=dtypes, assume_missing=True).set_index(\"ObjectId\")\n",
    "        df = df.map_partitions(normalize_columns, final_columns=final_columns)\n",
    "        df_melted = df.melt(\n",
    "            id_vars=general_columns,\n",
    "            value_vars=year_columns,\n",
    "            var_name=\"year\",\n",
    "            value_name=\"feature_value\",\n",
    "        )\n",
    "        df_melted[\"datasource\"] = os.path.basename(path)\n",
    "        df_list.append(df_melted)\n",
    "\n",
    "    data_interim = dd.concat(df_list)\n",
    "\n",
    "    data_processed = groupby_country(data_interim)\n",
    "\n",
    "    data_interim.to_csv(OUTPUT_INTERIM, index=False, single_file=True)\n",
    "    data_processed.to_csv(OUTPUT_PROCESSED, index=False)\n",
    "\n",
    "\n",
    "if __name__ == \"__main__\":\n",
    "    main()\n",
    "\n",
    "```\n"
   ]
  },
  {
   "cell_type": "markdown",
   "id": "3bd809b6",
   "metadata": {},
   "source": [
    "\n",
    "### Referências\n",
    "\n",
    "Artigos que Utilizam a Base de Land Cover e Forest Area (FAO):\n",
    "1. ROSAN, T. M. et al. A multi-data assessment of land use and land cover emissions from Brazil during 2000–2019. 2021 Environ. Res. Lett. 16 074004. Disponível em: <https://iopscience.iop.org/article/10.1088/1748-9326/ac08c3/meta>\n",
    "2. DOOLEY, K. et al.. Over-reliance on land for carbon dioxide removal in net-zero climate pledges. Nature Communications (2024) 15:9118. 23 out. 2024. Disponível em: <https://www.nature.com/articles/s41467-024-53466-0>\n",
    "3. REINER, F. et al. More than one quarter of Africa’s tree cover is found outside areas previously classified as forest. Nature Communications (2023) 14:2258. 29 mar. 2023. Disponível em: <https://www.nature.com/articles/s41467-023-37880-4>\n",
    "\n",
    "\n",
    "Artigos que Utilizam a Base de Desastres Climáticos Extremos (EM-DAT):\n",
    "\n",
    "1. NEWMAN, R.; NOY, I. The global costs of extreme weather that are attributable to climate change. Nature Communications (2023) 14:6103. 29 set. 2023. Disponível em: <https://www.nature.com/articles/s41467-023-41888-1>\n",
    "2. DONG, C. Indo-Pacific regional extremes aggravated by changes in tropical weather patterns. Nature Geoscience. Volume 17 979–986. 4 out. 2024. Disponível em: <https://www.nature.com/articles/s41561-024-01537-8>\n",
    "3. BALAIAN, S. K.; SANDERS, B. F.; QOMI, M. J. A. How urban form impacts flooding. Nature Communications (2024) 15:6911. 19 ago. 2024. Disponível em: <https://www.nature.com/articles/s41467-024-50347-4>\n",
    "\n",
    "\n",
    "## Objetivo da Análise\n",
    "\n",
    "Esta análise tem como objetivo explorar dados combinados de duas diferentes bases, de forma a identificar relações entre aspectos climáticos e territoriais e a corrência de desastres ambientais ao redor do mundo. Em especial, foram levantadas as seguintes perguntas iniciais, a serem respondidas:\n",
    "\n",
    "- Qual país que mais teve desastres naturais nos últimos 5 anos?\n",
    "- Quais os principais tipos de desastres naturais?\n",
    "- Qual o ano em que aconteceu mais desastres?\n",
    "- Há uma tendência de aumento no número de desastres ao longo dos anos?\n"
   ]
  },
  {
   "cell_type": "markdown",
   "id": "d1b49498",
   "metadata": {},
   "source": [
    "# Import e Preparação dos Dados\n",
    "\n",
    "Como primeiro passo, após os imports das bibliotecas necessárias, vamos realizar a importação da base de dados."
   ]
  },
  {
   "cell_type": "code",
   "execution_count": null,
   "id": "a149f436-a4dc-4c04-9543-8ed059181e5e",
   "metadata": {},
   "outputs": [],
   "source": [
    "import pandas as pd\n",
    "import matplotlib.pyplot as plt\n",
    "import seaborn as sns\n",
    "import numpy as np\n",
    "from scipy.stats import linregress"
   ]
  },
  {
   "cell_type": "markdown",
   "id": "1a55b7f5-1372-49de-b98b-665e5b59fea5",
   "metadata": {},
   "source": [
    "Como primeiro passo, após os imports das bibliotecas necessárias, vamos realizar a importação da base de dados."
   ]
  },
  {
   "cell_type": "code",
   "execution_count": null,
   "id": "32136ab1-6e76-430c-82d8-1cac04e990b9",
   "metadata": {},
   "outputs": [],
   "source": [
    "data = pd.read_csv(\"data/processed/dataConcat_gold.csv\")"
   ]
  },
  {
   "cell_type": "code",
   "execution_count": null,
   "id": "de5a26cc-c8f0-46ea-b0dd-2576d656d928",
   "metadata": {},
   "outputs": [],
   "source": [
    "data.head(5)"
   ]
  },
  {
   "cell_type": "markdown",
   "id": "b17c49a4-774d-4f5f-ab65-1f782e3b2cbb",
   "metadata": {},
   "source": [
    "Como primeira etapa da análise, vamos ver o resumo do dataset através do método info(). Um beneficio desse método é conseguir ver a tipagem de cada coluna, para necessidades como limpeza, e etc."
   ]
  },
  {
   "cell_type": "code",
   "execution_count": null,
   "id": "cbde4b3c-fd57-4b2d-9b7d-cf0d104f00db",
   "metadata": {},
   "outputs": [],
   "source": [
    "data.info()  # Informações sobre colunas, tipos e valores nulos"
   ]
  },
  {
   "cell_type": "markdown",
   "id": "1508fc68-2675-4a3b-89e0-6575cff0ca6e",
   "metadata": {},
   "source": [
    "Abaixo podemos perceber que temos uma quantidade de 13451 linhas e 31 features."
   ]
  },
  {
   "cell_type": "code",
   "execution_count": null,
   "id": "96d54c8c-acff-4d93-a99c-dc1a646ce9ab",
   "metadata": {},
   "outputs": [],
   "source": [
    "data.shape  # Número de linhas e colunas"
   ]
  },
  {
   "cell_type": "markdown",
   "id": "e6acddda-f2fd-4cee-8641-299cabcdea71",
   "metadata": {},
   "source": [
    "Quando fazemos um print do nome das colunas, podemos perceber que não necessariamente temos clareza do que significam. Por isso, vamos fazer um processo de renomeá-las"
   ]
  },
  {
   "cell_type": "code",
   "execution_count": null,
   "id": "304bfb60-d70e-4292-a89e-4c690976fd4e",
   "metadata": {},
   "outputs": [],
   "source": [
    "data.columns"
   ]
  },
  {
   "cell_type": "code",
   "execution_count": null,
   "id": "4e81b198-02ac-433b-b6c9-04b4654e4199",
   "metadata": {},
   "outputs": [],
   "source": [
    "# Lista de nomes das colunas antes da transformação\n",
    "colunas_originais = [\n",
    "    'country', 'iso2', 'iso3', 'year',\n",
    "    'Artificialsurfaces(includingurbanandassociatedareas)_1000HA',\n",
    "    'Carbonstocksinforests_Milliontonnes',\n",
    "    'ClimateAlteringLandCoverIndex_Index',\n",
    "    'Climaterelateddisastersfrequency,NumberofDisasters:Drought_Numberof',\n",
    "    'Climaterelateddisastersfrequency,NumberofDisasters:Extremetemperature_Numberof',\n",
    "    'Climaterelateddisastersfrequency,NumberofDisasters:Flood_Numberof',\n",
    "    'Climaterelateddisastersfrequency,NumberofDisasters:Landslide_Numberof',\n",
    "    'Climaterelateddisastersfrequency,NumberofDisasters:Storm_Numberof',\n",
    "    'Climaterelateddisastersfrequency,NumberofDisasters:TOTAL_Numberof',\n",
    "    'Climaterelateddisastersfrequency,NumberofDisasters:Wildfire_Numberof',\n",
    "    'Forestarea_1000HA', 'Grassland_1000HA', 'Herbaceouscrops_1000HA',\n",
    "    'Indexofcarbonstocksinforests_Index', 'Indexofforestextent_Index',\n",
    "    'Inlandwaterbodies_1000HA', 'Landarea_1000HA', 'Mangroves_1000HA',\n",
    "    'Permanentsnowandglaciers_1000HA', 'Shareofforestarea_Percent',\n",
    "    'Shrub-coveredareas_1000HA',\n",
    "    'Shrubsand/orherbaceousvegetation,aquaticorregularlyflooded_1000HA',\n",
    "    'Sparselynaturalvegetatedareas_1000HA',\n",
    "    'Temperaturechangewithrespecttoabaselineclimatology,correspondingtotheperiod1951-1980_DegreeCelsius',\n",
    "    'Terrestrialbarrenland_1000HA', 'Tree-coveredareas_1000HA',\n",
    "    'Woodycrops_1000HA'\n",
    "]"
   ]
  },
  {
   "cell_type": "code",
   "execution_count": null,
   "id": "7e5a47d5-7ccb-4cbd-a03d-122fa6d39c27",
   "metadata": {},
   "outputs": [],
   "source": [
    "\n",
    "# Colunas com nomes mais legiveis\n",
    "colunas_melhoradas = [\n",
    "    'country', 'iso2', 'iso3', 'year',\n",
    "    'artificial_surfaces_1000ha',\n",
    "    'carbon_stocks_in_forests_million_tonnes',\n",
    "    'climate_altering_land_cover_index',\n",
    "    'disasters_drought_number',\n",
    "    'disasters_extreme_temperature_number',\n",
    "    'disasters_flood_number',\n",
    "    'disasters_landslide_number',\n",
    "    'disasters_storm_number',\n",
    "    'disasters_total_number',\n",
    "    'disasters_wildfire_number',\n",
    "    'forest_area_1000ha', 'grassland_1000ha', 'herbaceous_crops_1000ha',\n",
    "    'carbon_stocks_index', 'forest_extent_index',\n",
    "    'inland_water_bodies_1000ha', 'land_area_1000ha', 'mangroves_1000ha',\n",
    "    'permanent_snow_and_glaciers_1000ha', 'share_of_forest_area_percent',\n",
    "    'shrub_covered_areas_1000ha',\n",
    "    'flooded_shrubs_or_herbaceous_vegetation_1000ha',\n",
    "    'sparsely_natural_vegetated_areas_1000ha',\n",
    "    'temperature_change_since_1951_1980_celsius',\n",
    "    'terrestrial_barren_land_1000ha', 'tree_covered_areas_1000ha',\n",
    "    'woody_crops_1000ha'\n",
    "]"
   ]
  },
  {
   "cell_type": "code",
   "execution_count": null,
   "id": "0871352c-49ac-4ad9-bf47-985c8566f5cb",
   "metadata": {},
   "outputs": [],
   "source": [
    "data.columns = colunas_melhoradas"
   ]
  },
  {
   "cell_type": "markdown",
   "id": "118b5ff2-aeb8-4786-ab60-fd00bed89bb1",
   "metadata": {},
   "source": [
    "O tratamento deixa a leitura mais legível de fácil compreensão, como pode ser visto abaixo:"
   ]
  },
  {
   "cell_type": "code",
   "execution_count": null,
   "id": "22be00a1-76eb-47a2-a493-c95186727f6a",
   "metadata": {},
   "outputs": [],
   "source": [
    "data.columns"
   ]
  },
  {
   "cell_type": "code",
   "execution_count": null,
   "id": "f21e4a7c-0504-4edc-ba61-3e8dd599a527",
   "metadata": {},
   "outputs": [],
   "source": [
    "data.info()  # Informações sobre colunas, tipos e valores nulos"
   ]
  },
  {
   "cell_type": "markdown",
   "id": "09fcb629-e80a-436f-b97e-cded66761b1a",
   "metadata": {},
   "source": [
    "O describe() vai mostrar um resumo estatistico dos dados numericos presentes no dataframe."
   ]
  },
  {
   "cell_type": "code",
   "execution_count": null,
   "id": "361d6408-f60b-4dfe-bb46-8c2b3ecdb434",
   "metadata": {},
   "outputs": [],
   "source": [
    "data.describe()"
   ]
  },
  {
   "cell_type": "code",
   "execution_count": null,
   "id": "8fdc47fe-8e68-4c76-a11b-b4f71adb6580",
   "metadata": {},
   "outputs": [],
   "source": [
    "data.isnull().sum()  # Total de valores nulos por coluna"
   ]
  },
  {
   "cell_type": "markdown",
   "id": "c25adb93-a30b-45f0-a780-417811b4f198",
   "metadata": {},
   "source": [
    "Pode ser tirada algumas hipóteses em relação ao comportamento dos dados, de maneira preliminar. Para os desastres naturais, por exemplo, é esperado que haja uma grande quantidade de dados faltantes. Na verdade, eles não são faltantes, mas a sua ausência apenas demonstra que não houve algum evento extremo naquele país durante aquele ano, o que é esperado, uma vez que eventos extremos deveriam ser pouco comuns."
   ]
  },
  {
   "cell_type": "code",
   "execution_count": null,
   "id": "a1f8761a-06b5-4813-85e1-00efc9d1b31f",
   "metadata": {},
   "outputs": [],
   "source": [
    "data.isnull().mean() * 100  "
   ]
  },
  {
   "cell_type": "markdown",
   "id": "f0f4b22b-a97e-45e0-9814-0c1ac4203559",
   "metadata": {},
   "source": [
    "A hipótese pode ser verdade para dados como desastres climáticos intensos, mas quando olhamos para a porcentagem dos outros dados, parece haver um, excesso de dados faltantes. Pode ser necessário recortar temporalmente o dataset de modo a ter dados mais relevantes, Vamos agora analisar de maneira gráfica o comportamento dos dados e como eles estão distribuidos.\n",
    "\n",
    "Primeiro, vamos preencher os valores faltantes das colunas de desastres climáticos com zeros."
   ]
  },
  {
   "cell_type": "code",
   "execution_count": null,
   "id": "a511dba3-8b9e-428e-91d9-ee612b2d7afb",
   "metadata": {},
   "outputs": [],
   "source": [
    "colunas_para_preencher = ['disasters_drought_number','disasters_extreme_temperature_number','disasters_flood_number','disasters_landslide_number',\n",
    "'disasters_storm_number','disasters_total_number','disasters_wildfire_number']\n",
    "\n",
    "data[colunas_para_preencher] = data[colunas_para_preencher].fillna(0)"
   ]
  },
  {
   "cell_type": "code",
   "execution_count": null,
   "id": "19d68db2-4a89-4002-b418-bb3ba07353d9",
   "metadata": {},
   "outputs": [],
   "source": [
    "data.isnull().mean() * 100"
   ]
  },
  {
   "cell_type": "markdown",
   "id": "e7cb46cd-4afd-4112-960a-21368f10fb85",
   "metadata": {},
   "source": [
    "## Histogramas para cada variável"
   ]
  },
  {
   "cell_type": "code",
   "execution_count": null,
   "id": "6b166327-5dca-4b8e-8371-87aab8f5c272",
   "metadata": {},
   "outputs": [],
   "source": [
    "# Histogramas individuais com FacetGrid\n",
    "import math\n",
    "\n",
    "num_cols = data.select_dtypes(include=['float64', 'int']).columns  # Apenas colunas numéricas\n",
    "num_plots = len(num_cols)\n",
    "cols = 3  # Número de gráficos por linha\n",
    "rows = math.ceil(num_plots / cols)\n",
    "\n",
    "fig, axes = plt.subplots(rows, cols, figsize=(15, rows * 5))  # Define o tamanho total\n",
    "axes = axes.flatten()  # Achata a matriz de eixos\n",
    "\n",
    "for i, col in enumerate(num_cols):\n",
    "    sns.histplot(data[col], bins=20, ax=axes[i], kde=True)\n",
    "    axes[i].set_title(col)\n",
    "    \n",
    "# Remove gráficos extras\n",
    "for j in range(i + 1, len(axes)):\n",
    "    fig.delaxes(axes[j])\n",
    "\n",
    "plt.tight_layout()\n",
    "fig.savefig('histogramas.png', dpi=300, bbox_inches='tight')  # Salva como imagem PNG com alta resolução\n",
    "plt.show()\n"
   ]
  },
  {
   "cell_type": "markdown",
   "id": "56690392-24b3-46b6-a8f0-901f27d61813",
   "metadata": {},
   "source": [
    "O registro histórico mostra como as variáveis estão distribuídas na estrutura de dados, e é possível pode ver algumas coisas interessantes. Primeiro, a maioria deles tem distribuição e comprimento de cauda assimétricos – ou seja, existem alguns valores que são maiores que a maioria, como acidente_número_total e área_floresta_1000ha. Além disso, existem variáveis que mostram claramente valores grandes, como carbono_stocks_in_forests_million_tonnes e terrestrial_barren_land_1000ha, que são mostradas em outras.\n",
    "Por outro lado, algumas variáveis, como temperatura_mudança_desde_1961_1990_celsius, parecem ter uma distribuição mais \"normal\", que parece um padrão normal. Outros são muito sensíveis a valores próximos de zero, como número_acidente e manguezais_1000ha. Isto pode indicar que a maioria dos dados apresenta valores baixos, enquanto alguns são elevados.\n",
    "Existem também variáveis que seguem padrões simples, como números, que representam medidas constantes ao longo do tempo. Outros, como part_of_the_barrel_forest, têm uma distribuição ampla e variada."
   ]
  },
  {
   "cell_type": "markdown",
   "id": "eba8e091-193c-4c93-adc7-24dd2818d5e3",
   "metadata": {},
   "source": [
    "## Matriz de correlação "
   ]
  },
  {
   "cell_type": "code",
   "execution_count": null,
   "id": "899d781e-bc35-46ce-908c-eaab413a18b1",
   "metadata": {},
   "outputs": [],
   "source": [
    "# Filtrar apenas colunas numéricas\n",
    "corr = data.select_dtypes(include=['float64', 'int']).corr()"
   ]
  },
  {
   "cell_type": "code",
   "execution_count": null,
   "id": "ef580c99-85ad-4bf7-97af-aefa51576f43",
   "metadata": {},
   "outputs": [],
   "source": [
    "plt.figure(figsize=(12, 10))  # Ajusta o tamanho do gráfico\n",
    "sns.heatmap(corr, annot=True, cmap='coolwarm', fmt=\".1f\")  # Reduz para 2 casas decimais\n",
    "plt.xticks(rotation=45, ha='right')  # Rotaciona os rótulos do eixo X\n",
    "plt.yticks(rotation=0)  # Mantém os rótulos do eixo Y horizontais\n",
    "plt.title('Heatmap de Correlação', fontsize=16)  # Adiciona um título\n",
    "plt.savefig('heatmap_correlacao.png', dpi=300, bbox_inches='tight')  # Salva com alta resolução\n",
    "plt.show()"
   ]
  },
  {
   "cell_type": "markdown",
   "id": "cac1daeb-5767-4a01-b3e9-89c25d9581c0",
   "metadata": {},
   "source": [
    "A matriz de correlação revela padrões importantes de serem pontuados sobre como as variáveis globais se relacionam entre si. Um dos destaques é a forte correlação positiva entre os estoques de carbono em florestas e a área de floresta, o que era esperado, já que a quantidade de carbono estocado está diretamente ligada à extensão dessas áreas. Outro ponto relevante é a correlação média a forte entre áreas urbanizadas, representadas por superfícies artificiais, e o número de desastres climáticos. Esse padrão sugere que a expansão das cidades pode estar associada a uma maior vulnerabilidade ou a impactos mais intensos de eventos climáticos extremos.\n",
    "Além disso, observa-se uma relação negativa entre alterações climáticas e variáveis como estoques de carbono e índices florestais, reforçando a ideia de que mudanças no clima afetam negativamente os ecossistemas naturais, diminuindo sua capacidade de capturar e armazenar carbono. Existe uma correlação negativa entre a área de vegetação natural e a área de vegetação artificial, indicando que o crescimento urbano tende a ocorrer em áreas naturais.\n",
    "Outro ponto interessante é a relação positiva entre o número de desastres naturais e as terras construídas pelo homem, o que faz com que as atividades humanas melhorem a relação entre elas, as mudanças no uso da terra e os efeitos das condições climáticas severas. Estas medidas destacam a ligação entre as condições ambientais e o uso humano da terra, enfatizando a importância de políticas para reduzir os impactos das alterações climáticas, especialmente nas áreas urbanas, e proteger a vida dos recursos naturais."
   ]
  },
  {
   "cell_type": "markdown",
   "id": "232f3b89-afbb-45f7-a8cc-9d2878d623f8",
   "metadata": {},
   "source": [
    "## Investigação dos dados faltantes"
   ]
  },
  {
   "cell_type": "code",
   "execution_count": null,
   "id": "11afbd46-79b3-424f-ba6a-94269de93805",
   "metadata": {},
   "outputs": [],
   "source": [
    "faltantes_por_linha = data.isnull().sum(axis=1)\n",
    "linhas_com_2_ou_mais_faltantes = data[faltantes_por_linha >= 2]\n",
    "faltantes_por_ano = linhas_com_2_ou_mais_faltantes.groupby('year').size()"
   ]
  },
  {
   "cell_type": "code",
   "execution_count": null,
   "id": "a074fd0e-4539-438d-9221-6ec4df39b5de",
   "metadata": {},
   "outputs": [],
   "source": [
    "faltantes_por_ano"
   ]
  },
  {
   "cell_type": "code",
   "execution_count": null,
   "id": "6d874f6c-794f-4c41-9f24-c7190406d37f",
   "metadata": {},
   "outputs": [],
   "source": [
    "faltantes_por_ano.plot(kind='bar', figsize=(10, 6), color='orange')\n",
    "plt.title('Linhas com 2 ou Mais Dados Faltantes por Ano', fontsize=16)\n",
    "plt.xlabel('Ano', fontsize=14)\n",
    "plt.ylabel('Quantidade de Linhas', fontsize=14)\n",
    "plt.xticks(rotation=70)\n",
    "plt.grid(axis='y', linestyle='--', alpha=0.7)\n",
    "plt.tight_layout()\n",
    "plt.show()\n"
   ]
  },
  {
   "cell_type": "code",
   "execution_count": null,
   "id": "8287d138-22a2-4583-afcb-c89c6aa686b8",
   "metadata": {},
   "outputs": [],
   "source": [
    "faltantes_por_linha = data.isnull().sum(axis=1)\n",
    "linhas_com_15_ou_mais_faltantes = data[faltantes_por_linha >= 15]\n",
    "faltantes_por_ano = linhas_com_15_ou_mais_faltantes.groupby('year').size()"
   ]
  },
  {
   "cell_type": "code",
   "execution_count": null,
   "id": "ac966e3b-62b7-4260-8006-96ad89357168",
   "metadata": {},
   "outputs": [],
   "source": [
    "faltantes_por_ano.plot(kind='bar', figsize=(10, 6), color='orange')\n",
    "plt.title('Linhas com 15 ou Mais Dados Faltantes por Ano', fontsize=16)\n",
    "plt.xlabel('Ano', fontsize=14)\n",
    "plt.ylabel('Quantidade de Linhas', fontsize=14)\n",
    "plt.xticks(rotation=70)\n",
    "plt.grid(axis='y', linestyle='--', alpha=0.7)\n",
    "plt.tight_layout()\n",
    "plt.show()"
   ]
  },
  {
   "cell_type": "markdown",
   "id": "5951e9bf-ab92-433c-8e90-5c5924bc993d",
   "metadata": {},
   "source": [
    "Por conta do numero de dados faltantes nas colunas antes de 1992 e em 2023, foi decidido dropar as linhas com esses dados. Isso porque havia uma ausência muito grande de dados."
   ]
  },
  {
   "cell_type": "code",
   "execution_count": null,
   "id": "0df1a8b1-ee63-42af-bc51-717933f31b1a",
   "metadata": {},
   "outputs": [],
   "source": [
    "# Conta o número de valores faltantes em cada linha\n",
    "faltantes_por_linha = data.isnull().sum(axis=1)\n",
    "# Filtra apenas as linhas com menos de 2 valores faltantes\n",
    "new_data = data[faltantes_por_linha < 15]\n",
    "\n",
    "# Exibindo o tamanho do dataset antes e depois\n",
    "print(f\"Tamanho original do dataset: {data.shape[0]} linhas\")\n",
    "print(f\"Tamanho do dataset limpo: {new_data.shape[0]} linhas\")"
   ]
  },
  {
   "cell_type": "markdown",
   "id": "41d27668-0a73-4df9-a22a-477cc44e567a",
   "metadata": {},
   "source": [
    "Antes de refazer as visualizações e correlações dos dados, agora que eles estão devidamente limpos e com a quantidade certa de linhas, pode ser interessante criar novas colunas pela derivação dos dados que ja temos disponivel"
   ]
  },
  {
   "cell_type": "markdown",
   "id": "7c184931-d8f1-4121-bab2-15b47615af14",
   "metadata": {},
   "source": [
    "## Novas colunas a partir dos dados existentes"
   ]
  },
  {
   "cell_type": "markdown",
   "id": "9ae9a71e-0f10-4a57-8f2a-5107cfcd75a0",
   "metadata": {},
   "source": [
    "1. Proporção de Áreas Urbanas:"
   ]
  },
  {
   "cell_type": "code",
   "execution_count": null,
   "id": "b21c1bb2-784b-4070-9577-16cf58a2ecd8",
   "metadata": {},
   "outputs": [],
   "source": [
    "new_data.loc[:, 'urban_area_percentage'] = (new_data['artificial_surfaces_1000ha'] / new_data['land_area_1000ha']) * 100"
   ]
  },
  {
   "cell_type": "markdown",
   "id": "5ad84de4-3719-4970-b0c2-d73202b3dcb4",
   "metadata": {},
   "source": [
    "2. Proporção de Áreas Naturais:"
   ]
  },
  {
   "cell_type": "code",
   "execution_count": null,
   "id": "0cd13155-acbb-43e5-be35-89c78f754bf6",
   "metadata": {},
   "outputs": [],
   "source": [
    "new_data.loc[:, 'forest_percentage'] = (new_data['forest_area_1000ha'] / new_data['land_area_1000ha']) * 100"
   ]
  },
  {
   "cell_type": "markdown",
   "id": "94a0fb0f-0655-4664-9509-80f7532dc6f2",
   "metadata": {},
   "source": [
    "3.  Taxa de variação do estoque de carbono\n"
   ]
  },
  {
   "cell_type": "code",
   "execution_count": null,
   "id": "0ea0621e-da95-4294-a70a-4ffa4ce45e44",
   "metadata": {},
   "outputs": [],
   "source": [
    "new_data.loc[:, 'carbon_stock_change_rate'] = new_data.groupby('country')['carbon_stocks_in_forests_million_tonnes'].diff()"
   ]
  },
  {
   "cell_type": "markdown",
   "id": "ea0e17fb-3255-4673-aa9d-1fb83dcac26c",
   "metadata": {},
   "source": [
    "4. Mudança de temperatura acumulada (ano a ano)"
   ]
  },
  {
   "cell_type": "code",
   "execution_count": null,
   "id": "eb39329d-c806-4e0b-8787-5d9fbb62df09",
   "metadata": {},
   "outputs": [],
   "source": [
    "new_data.loc[:, 'cumulative_temp_change'] = new_data.groupby('country')['temperature_change_since_1951_1980_celsius'].cumsum()"
   ]
  },
  {
   "cell_type": "markdown",
   "id": "f14c0e28-7091-4634-84c8-9d4c2c586af3",
   "metadata": {},
   "source": [
    "5. Taxa de cobertura arbórea"
   ]
  },
  {
   "cell_type": "code",
   "execution_count": null,
   "id": "240ebaf9-ade3-4e91-85a2-2c4fb8902d14",
   "metadata": {},
   "outputs": [],
   "source": [
    "new_data.loc[:, 'tree_cover_percentage'] = (new_data['tree_covered_areas_1000ha'] / new_data['land_area_1000ha']) * 100"
   ]
  },
  {
   "cell_type": "markdown",
   "id": "f35f0177-10f6-44e3-944c-31d2902801a0",
   "metadata": {},
   "source": [
    "6. Taxa de variação do desmatamento (ano a ano)"
   ]
  },
  {
   "cell_type": "code",
   "execution_count": null,
   "id": "ea7da629-5dd9-4ee6-834d-c3155a1c95b0",
   "metadata": {},
   "outputs": [],
   "source": [
    "new_data.loc[:, 'deforestation_rate'] = new_data.groupby('country')['forest_area_1000ha'].diff() / new_data['land_area_1000ha'] * 100"
   ]
  },
  {
   "cell_type": "markdown",
   "id": "8f09d307-eaab-4cfd-b3cd-9674905953d5",
   "metadata": {},
   "source": [
    "Agora que temos novos indices, vamos averiguar como está o preenchimento das colunas."
   ]
  },
  {
   "cell_type": "code",
   "execution_count": null,
   "id": "6b040faf-201c-430d-b9ea-73ceb0644d76",
   "metadata": {},
   "outputs": [],
   "source": [
    "new_data.isnull().mean() * 100  # Percentual de valores nulos por coluna"
   ]
  },
  {
   "cell_type": "code",
   "execution_count": null,
   "id": "4d0084c4-47f7-4ab7-878b-6e24705788f7",
   "metadata": {},
   "outputs": [],
   "source": [
    "# Filtrar apenas colunas numéricas\n",
    "new_corr = new_data.select_dtypes(include=['float64', 'int']).corr()"
   ]
  },
  {
   "cell_type": "code",
   "execution_count": null,
   "id": "9af3fb43-ce73-44d0-a5fe-ba567865d9fb",
   "metadata": {},
   "outputs": [],
   "source": [
    "plt.figure(figsize=(12, 10))  # Ajusta o tamanho do gráfico\n",
    "sns.heatmap(new_corr, annot=True, cmap='coolwarm', fmt=\".1f\")  # Reduz para 2 casas decimais\n",
    "plt.xticks(rotation=45, ha='right')  # Rotaciona os rótulos do eixo X\n",
    "plt.yticks(rotation=0)  # Mantém os rótulos do eixo Y horizontais\n",
    "plt.title('Heatmap de Correlação', fontsize=16)  # Adiciona um título\n",
    "plt.show()"
   ]
  },
  {
   "cell_type": "markdown",
   "id": "4c019fe4-1bb1-496b-b8b3-e110cec2f54c",
   "metadata": {},
   "source": [
    "## Correlação por países"
   ]
  },
  {
   "cell_type": "markdown",
   "id": "f3f4b347-a4fe-4c7e-8717-fc456d1bc2f8",
   "metadata": {},
   "source": [
    "Uma pergunta que pode surgir, é: os dados se comportam igualmente (correlação) para os países? Levando isso em consideração, pode ser feito um heatmap para cada país, de modo a entender melhor os comportamentos. \n",
    "\n",
    "É esperado que os comportamentos ambientais e climáticos sejam diferentes em cada país, isso porque a incidência solar, chuvas, ventos e etc são diferentes em cada região do globo, além de aspectos humanos que afetam diretamente, como urbanização."
   ]
  },
  {
   "cell_type": "code",
   "execution_count": null,
   "id": "826985c6-22e4-40a4-8970-eff4a6dd438b",
   "metadata": {},
   "outputs": [],
   "source": [
    "countries = new_data['country'].unique()\n",
    "len(countries)"
   ]
  },
  {
   "cell_type": "code",
   "execution_count": null,
   "id": "1f656a61-72e4-45d0-af6b-d1e3e716be18",
   "metadata": {},
   "outputs": [],
   "source": [
    "countries"
   ]
  },
  {
   "cell_type": "markdown",
   "id": "1e26fd79-9615-42ef-896e-e8927c128f2c",
   "metadata": {},
   "source": [
    "Seria inviável analisar 232 heatmaps, por isso, vamos plotar apenas 4."
   ]
  },
  {
   "cell_type": "code",
   "execution_count": null,
   "id": "9b3229db-ce31-45cb-9117-bc6ccc763fde",
   "metadata": {},
   "outputs": [],
   "source": [
    "# Configurar o número de colunas no layout\n",
    "num_columns = 2  # Quantos heatmaps por linha\n",
    "countries = new_data['country'].unique()[:4]  # Selecionar os primeiros 10 países para exemplificar\n",
    "\n",
    "# Criar subplots\n",
    "num_rows = (len(countries) + num_columns - 1) // num_columns  # Calcular o número de linhas\n",
    "fig, axes = plt.subplots(num_rows, num_columns, figsize=(num_columns * 5, num_rows * 5))\n",
    "axes = axes.flatten()  # Transformar a matriz de eixos em um vetor\n",
    "\n",
    "# Iterar sobre os países e gerar os heatmaps\n",
    "for i, country in enumerate(countries):\n",
    "    # Filtrar os dados para o país atual\n",
    "    country_data = new_data[new_data['country'] == country]\n",
    "\n",
    "    # Selecionar apenas colunas numéricas\n",
    "    numeric_columns = country_data.select_dtypes(include='number').columns\n",
    "    country_numeric_data = country_data[numeric_columns]\n",
    "\n",
    "    # Calcular a matriz de correlação\n",
    "    country_corr = country_numeric_data.corr()\n",
    "\n",
    "    # Plotar o heatmap no subplot correspondente\n",
    "    sns.heatmap(\n",
    "        country_corr, \n",
    "        annot=False, \n",
    "        cmap='coolwarm', \n",
    "        ax=axes[i], \n",
    "        cbar=False  # Ocultar a barra de cores individualmente\n",
    "    )\n",
    "    axes[i].set_title(country, fontsize=12)\n",
    "    axes[i].axis('off')  # Opcional: remover os rótulos dos eixos\n",
    "\n",
    "# Ajustar o layout e remover subplots vazios\n",
    "for j in range(len(countries), len(axes)):\n",
    "    fig.delaxes(axes[j])  # Remove os eixos não utilizados\n",
    "\n",
    "plt.tight_layout()\n",
    "plt.show()"
   ]
  },
  {
   "cell_type": "markdown",
   "id": "1d505f20-d8ae-4ecf-bc22-0dc382f3253a",
   "metadata": {},
   "source": [
    "Com o resultado obtido a partir dos 4 heatmaps, percebe-se que realmente há grandes variações na correlação de variáveis para cada país. Isso mostra que, para casos de predição, por exemplo, seria importante analisar individualmente cada país.\n",
    "\n",
    "Uma questão identificada ao plotar esses heatmaps foi a disparidade na concentração de dados entre diferentes países, que contam com ausência de dados para variáveis diferentes para cada país."
   ]
  },
  {
   "cell_type": "markdown",
   "id": "5ef2870e-9dd4-4df1-9739-f1cf581a88c2",
   "metadata": {},
   "source": [
    "## Perguntas iniciais para entendimento dos dados"
   ]
  },
  {
   "cell_type": "markdown",
   "id": "b5c9eba7-d14a-4cfd-8685-7e3539ed8795",
   "metadata": {},
   "source": [
    "### Qual país que mais teve desastres naturais nos últimos 5 anos?"
   ]
  },
  {
   "cell_type": "code",
   "execution_count": null,
   "id": "a9477059-02a0-44df-8c40-b9b0ca6ecc7d",
   "metadata": {},
   "outputs": [],
   "source": [
    "# Filtrar os últimos 5 anos (ajuste o ano atual conforme necessário)\n",
    "latest_year = new_data['year'].max()\n",
    "last_5_years = new_data[new_data['year'] >= (latest_year - 5)]\n",
    "\n",
    "# Agrupar por país e somar o número total de desastres\n",
    "disasters_by_country = last_5_years.groupby('country')['disasters_total_number'].sum()\n",
    "most_disasters_country = disasters_by_country.idxmax()\n",
    "most_disasters_count = disasters_by_country.max()\n",
    "\n",
    "print(f\"O país com mais desastres naturais nos últimos 5 anos foi {most_disasters_country}, com {most_disasters_count} desastres.\")"
   ]
  },
  {
   "cell_type": "markdown",
   "id": "602a1d44-0b09-4bf9-a108-9b30af917bde",
   "metadata": {},
   "source": [
    "### Quais os principais tipos de desastres naturais?\n"
   ]
  },
  {
   "cell_type": "code",
   "execution_count": null,
   "id": "6fb5131b-4b81-4798-9795-8fb8d7dee601",
   "metadata": {},
   "outputs": [],
   "source": [
    "# Selecionar colunas de desastres\n",
    "disaster_columns = [\n",
    "    'disasters_drought_number', \n",
    "    'disasters_extreme_temperature_number', \n",
    "    'disasters_flood_number', \n",
    "    'disasters_landslide_number', \n",
    "    'disasters_storm_number', \n",
    "    'disasters_wildfire_number'\n",
    "]\n",
    "\n",
    "# Somar ocorrências de cada tipo de desastre\n",
    "disaster_totals = new_data[disaster_columns].sum().sort_values(ascending=False)\n",
    "\n",
    "print(\"Principais tipos de desastres naturais:\")\n",
    "print(disaster_totals)"
   ]
  },
  {
   "cell_type": "markdown",
   "id": "c44d5e35-6b6e-4a8d-90d6-a85205d41a4e",
   "metadata": {},
   "source": [
    "### Qual o ano em que aconteceu mais desastres?\n"
   ]
  },
  {
   "cell_type": "code",
   "execution_count": null,
   "id": "c12c2a28-b435-4e4f-8b45-0e40dabc8f3e",
   "metadata": {},
   "outputs": [],
   "source": [
    "# Agrupar por ano e somar o número total de desastres\n",
    "disasters_by_year = new_data.groupby('year')['disasters_total_number'].sum()\n",
    "year_with_most_disasters = disasters_by_year.idxmax()\n",
    "most_disasters_in_year = disasters_by_year.max()\n",
    "\n",
    "print(f\"O ano com mais desastres foi {year_with_most_disasters}, com {most_disasters_in_year} desastres.\")"
   ]
  },
  {
   "cell_type": "markdown",
   "id": "59db8d03-d0b9-4e83-8a82-5bb4315a6731",
   "metadata": {},
   "source": [
    "### Há uma tendência de aumento no número de desastres ao longo dos anos?\n"
   ]
  },
  {
   "cell_type": "code",
   "execution_count": null,
   "id": "ee7a3b36-2a4f-409e-abf5-30a4160d20ee",
   "metadata": {},
   "outputs": [],
   "source": [
    "#Agrupar por ano e calcular o número total de desastres\n",
    "disasters_by_year = new_data.groupby('year')['disasters_total_number'].sum()\n",
    "\n",
    "# Realizar a regressão linear\n",
    "years = disasters_by_year.index\n",
    "disasters = disasters_by_year.values\n",
    "slope, intercept, r_value, p_value, std_err = linregress(years, disasters)\n",
    "\n",
    "# Previsão da linha de tendência\n",
    "trend_line = slope * years + intercept\n",
    "\n",
    "# Exibir resultados\n",
    "trend = \"aumento\" if slope > 0 else \"diminuição\"\n",
    "print(f\"A tendência é de {trend} no número de desastres ao longo dos anos.\")\n",
    "print(f\"Coeficiente angular: {slope:.2f}, R²: {r_value**2:.2f}, p-value: {p_value:.4f}\")"
   ]
  },
  {
   "cell_type": "code",
   "execution_count": null,
   "id": "c5ed3c07-8536-4117-b900-7880deeb7473",
   "metadata": {},
   "outputs": [],
   "source": [
    "# Criar o gráfico\n",
    "plt.figure(figsize=(10, 6))\n",
    "plt.scatter(years, disasters, color='blue', label='Número de Desastres (Dados)')\n",
    "plt.plot(years, trend_line, color='red', linestyle='--', label=f'Tendência Linear (y={slope:.2f}x + {intercept:.2f})')\n",
    "plt.title('Tendência do Número de Desastres ao Longo dos Anos')\n",
    "plt.xlabel('Ano')\n",
    "plt.ylabel('Número de Desastres')\n",
    "plt.legend()\n",
    "plt.grid(alpha=0.3)\n",
    "plt.show()"
   ]
  },
  {
   "cell_type": "markdown",
   "id": "adc88c39-0d47-4ff5-adf4-48603d0a9d57",
   "metadata": {},
   "source": [
    "### Predição de comportamentos climáticos e ambientais no Brasil"
   ]
  },
  {
   "cell_type": "markdown",
   "id": "0364b90e-16c9-482c-a783-816c1aec33ed",
   "metadata": {},
   "source": [
    "A primeira etapa para analisar comportamentos do brasil e tentar predize-los envolve filtrar seus dados. Além disso, vamos plotar também suas correlações para discutir."
   ]
  },
  {
   "cell_type": "code",
   "execution_count": null,
   "id": "c83c3b4a-87b9-475c-bf87-73cc152b605e",
   "metadata": {},
   "outputs": [],
   "source": [
    "# Filtrar os dados para o país atual\n",
    "country_data = new_data[new_data['country'] == 'Brazil']\n",
    "    \n",
    "# Selecionar apenas colunas numéricas\n",
    "numeric_columns = country_data.select_dtypes(include='number').columns\n",
    "country_numeric_data = country_data[numeric_columns]\n",
    "    \n",
    "# Calcular a matriz de correlação\n",
    "country_corr = country_numeric_data.corr()\n",
    "    \n",
    "# Plotar o heatmap de correlação para o país\n",
    "plt.figure(figsize=(10, 10))\n",
    "sns.heatmap(country_corr, annot=False, cmap='coolwarm')  # Remover números no gráfico\n",
    "plt.title(f'Heatmap de Correlação - Brazil', fontsize=16)\n",
    "plt.xticks(rotation=45, ha='right')\n",
    "plt.yticks(rotation=0)\n",
    "plt.show()"
   ]
  },
  {
   "cell_type": "markdown",
   "id": "a1987a0f-8563-4620-9946-0605e58d653d",
   "metadata": {},
   "source": [
    "Com base na matriz e na utilidade das variáveis, existem variáveis que fazem mais sentido em serem previstas, como a mudança acumulada de temperatura, que mostra o quanto tá aumentando ou diminuindo ao longo dos anos."
   ]
  },
  {
   "cell_type": "code",
   "execution_count": null,
   "id": "13ee99fa-1dc8-431d-9ea6-96d16b1577fe",
   "metadata": {},
   "outputs": [],
   "source": [
    "import numpy as np\n",
    "from sklearn.model_selection import train_test_split, GridSearchCV\n",
    "from sklearn.pipeline import Pipeline\n",
    "from sklearn.impute import SimpleImputer\n",
    "from sklearn.preprocessing import StandardScaler\n",
    "from sklearn.linear_model import LinearRegression, Ridge, Lasso\n",
    "from sklearn.ensemble import RandomForestRegressor, GradientBoostingRegressor\n",
    "from sklearn.metrics import mean_squared_error, r2_score"
   ]
  },
  {
   "cell_type": "markdown",
   "id": "06248ea9-f3d7-402c-9f09-3ccff74f4f5a",
   "metadata": {},
   "source": [
    "Abaixo estão sendo selecionados todas as colunas que possuem relação com o acumulado de mudança de temperatura, como também a definição do target."
   ]
  },
  {
   "cell_type": "code",
   "execution_count": null,
   "id": "739fa665-98f7-440a-ba65-06437887fd8a",
   "metadata": {},
   "outputs": [],
   "source": [
    "relevant_features = ['artificial_surfaces_1000ha', 'forest_area_1000ha', \n",
    "                     'carbon_stocks_in_forests_million_tonnes', 'deforestation_rate', \n",
    "                     'tree_covered_areas_1000ha']  \n",
    "target = 'cumulative_temp_change'"
   ]
  },
  {
   "cell_type": "code",
   "execution_count": null,
   "id": "4552c0bb-1878-4aaf-8b7a-6876b7e083d7",
   "metadata": {},
   "outputs": [],
   "source": [
    "brazil_data = new_data[new_data['country'] == 'Brazil']\n",
    "brazil_data"
   ]
  },
  {
   "cell_type": "code",
   "execution_count": null,
   "id": "d37e1fdb-d8c1-44bd-9bf9-d35dfd85c67f",
   "metadata": {},
   "outputs": [],
   "source": [
    "features = [col for col in relevant_features if col in brazil_data.columns]"
   ]
  },
  {
   "cell_type": "code",
   "execution_count": null,
   "id": "1898ab27-2ecd-4bb1-9495-70d61f9947aa",
   "metadata": {},
   "outputs": [],
   "source": [
    "features"
   ]
  },
  {
   "cell_type": "markdown",
   "id": "b5f61f71-9e63-4959-976b-5e732be496cd",
   "metadata": {},
   "source": [
    "Agora será aplicado o filtro para buscar apenas as features e os targets, como também dropar dados faltantes."
   ]
  },
  {
   "cell_type": "code",
   "execution_count": null,
   "id": "b0e7b68b-a646-4597-b3e2-c53fa01077c8",
   "metadata": {},
   "outputs": [],
   "source": [
    "# Filtrar dados e remover valores nulos\n",
    "data_brazil_filtered = brazil_data[features + [target]].dropna()\n",
    "data_brazil_filtered"
   ]
  },
  {
   "cell_type": "markdown",
   "id": "2835a8f4-de17-4042-b717-21138e87ed93",
   "metadata": {},
   "source": [
    "Agora serão separados em variaveis independentes e variaveis alvo, e em seguida, treino e teste."
   ]
  },
  {
   "cell_type": "code",
   "execution_count": null,
   "id": "24b76c96-8384-428f-b98b-9d0ca20bd5d5",
   "metadata": {},
   "outputs": [],
   "source": [
    "# Separar X (variáveis independentes) e y (variável alvo)\n",
    "X = data_brazil_filtered[features]\n",
    "y = data_brazil_filtered[target]"
   ]
  },
  {
   "cell_type": "code",
   "execution_count": null,
   "id": "b07ee5c2-074d-44ca-8c32-6ed3e6fa15ae",
   "metadata": {},
   "outputs": [],
   "source": [
    "X_train, X_test, y_train, y_test = train_test_split(X, y, test_size=0.2, random_state=42)"
   ]
  },
  {
   "cell_type": "markdown",
   "id": "4f125a90-264e-480e-86d6-01a46108c96b",
   "metadata": {},
   "source": [
    "Como forma de avaliar o melhor modelo, será selecionado um grupo de regressores, uma vez que a variavel a ser predita é numérica, como também parametros dos modelos. Em seguida, será aplicado um gridSearch para encontrar os melhores parâmetros e testar. Com isso, os resultados serão comparados para definir o melhor modelo."
   ]
  },
  {
   "cell_type": "code",
   "execution_count": null,
   "id": "34943080-a005-40e5-b94e-9fe07654313b",
   "metadata": {},
   "outputs": [],
   "source": [
    "models = {\n",
    "    \"LinearRegression\": LinearRegression(),\n",
    "    \"Ridge\": Ridge(),\n",
    "    \"Lasso\": Lasso(),\n",
    "    \"RandomForest\": RandomForestRegressor(),\n",
    "    \"GradientBoosting\": GradientBoostingRegressor()\n",
    "}"
   ]
  },
  {
   "cell_type": "code",
   "execution_count": null,
   "id": "6da2ec4d-45ef-48c8-adac-9eba17f8c795",
   "metadata": {},
   "outputs": [],
   "source": [
    "# Parâmetros de Grid Search\n",
    "param_grids = {\n",
    "    \"LinearRegression\": {},\n",
    "    \"Ridge\": {'model__alpha': [0.1, 1.0, 10.0]},\n",
    "    \"Lasso\": {'model__alpha': [0.01, 0.1, 1.0]},\n",
    "    \"RandomForest\": {'model__n_estimators': [50, 100, 200], 'model__max_depth': [None, 10, 20]},\n",
    "    \"GradientBoosting\": {'model__n_estimators': [50, 100, 200], 'model__learning_rate': [0.01, 0.1, 0.5]}\n",
    "}"
   ]
  },
  {
   "cell_type": "code",
   "execution_count": null,
   "id": "920518a0-c6b0-436d-a373-d92da5f4e88b",
   "metadata": {},
   "outputs": [],
   "source": [
    "# Pipeline base\n",
    "pipeline = Pipeline([\n",
    "    ('imputer', SimpleImputer(strategy='mean')),\n",
    "    ('scaler', StandardScaler()),\n",
    "    ('model', LinearRegression())  # Placeholder\n",
    "])"
   ]
  },
  {
   "cell_type": "code",
   "execution_count": null,
   "id": "666143ec-f6fc-4325-9940-e7269d301181",
   "metadata": {},
   "outputs": [],
   "source": [
    "results = {}\n",
    "for name, model in models.items():\n",
    "    pipeline.set_params(model=model)\n",
    "    param_grid = param_grids[name]\n",
    "    grid_search = GridSearchCV(pipeline, param_grid, cv=5, scoring='neg_mean_squared_error')\n",
    "    grid_search.fit(X_train, y_train)\n",
    "    \n",
    "    # Melhor modelo e avaliação\n",
    "    best_model = grid_search.best_estimator_\n",
    "    y_pred = best_model.predict(X_test)\n",
    "    mse = mean_squared_error(y_test, y_pred)\n",
    "    r2 = r2_score(y_test, y_pred)\n",
    "    results[name] = {'BestModel': best_model, 'MSE': mse, 'R2': r2}"
   ]
  },
  {
   "cell_type": "code",
   "execution_count": null,
   "id": "2d666371-9b62-4338-b7af-36af56a8820f",
   "metadata": {},
   "outputs": [],
   "source": [
    "results_df = pd.DataFrame({name: data for name, data in results.items()}).T\n",
    "print(results_df)"
   ]
  },
  {
   "cell_type": "code",
   "execution_count": null,
   "id": "315f7adc-8247-404a-aab8-43bf37b35579",
   "metadata": {},
   "outputs": [],
   "source": [
    "# Gráfico de comparação de R2\n",
    "plt.figure(figsize=(8, 5))\n",
    "r2_scores = results_df['R2']\n",
    "\n",
    "# Configurar barras e escala do eixo Y\n",
    "plt.bar(r2_scores.index, r2_scores.values, color='teal')\n",
    "plt.title('Comparação de R2 entre Modelos')\n",
    "plt.ylabel('R2 Score')\n",
    "plt.xticks(rotation=45)\n",
    "\n",
    "# Ajustar o limite do eixo Y para focar nos valores\n",
    "min_r2 = r2_scores.min() - 0.01  # Um pouco abaixo do mínimo\n",
    "max_r2 = r2_scores.max() + 0.01  # Um pouco acima do máximo\n",
    "plt.ylim(min_r2, max_r2)\n",
    "plt.grid()\n",
    "plt.show()"
   ]
  },
  {
   "cell_type": "markdown",
   "id": "dfe8b6c9-03b7-4082-ac6a-f917cc28597a",
   "metadata": {},
   "source": [
    "Pelo resultado das comparações, o melhor modelo foi o RandomForest, mesmo que quando comparado o R2, seja pouca a diferença."
   ]
  },
  {
   "cell_type": "code",
   "execution_count": null,
   "id": "2538da64-5e7a-47e5-a6fd-6108fa58ee80",
   "metadata": {},
   "outputs": [],
   "source": [
    "# Melhor modelo - Gráfico de Valores Reais vs Previstos\n",
    "best_model_name = max(results, key=lambda x: results[x]['R2'])\n",
    "best_model = results[best_model_name]['BestModel']\n",
    "y_pred_best = best_model.predict(X_test)"
   ]
  },
  {
   "cell_type": "code",
   "execution_count": null,
   "id": "d90f5380-06d0-48be-a091-dd7bfd3c41ff",
   "metadata": {},
   "outputs": [],
   "source": [
    "plt.figure(figsize=(8, 8))\n",
    "sns.scatterplot(x=y_test, y=y_pred_best, alpha=0.7)\n",
    "plt.plot([y_test.min(), y_test.max()], [y_test.min(), y_test.max()], color='red', lw=2)\n",
    "plt.title(f'Valores Reais vs Previstos - {best_model_name}')\n",
    "plt.xlabel('Valores Reais')\n",
    "plt.ylabel('Valores Previstos')\n",
    "plt.grid()\n",
    "plt.show()"
   ]
  },
  {
   "cell_type": "markdown",
   "id": "53cb9203-45a7-48f7-be2b-65b03a964a95",
   "metadata": {},
   "source": [
    "Acima temos um gráfico que representa a comparação do que são os dados reais e o que foi obtido. Por mais que a quantidade de dados disponível seja baixa, é possível perceber que o modelo conseguiu descrever o comportamento esperado dos dados. Com um modelo assim, através das variáveis selecionadas seria possível por exemplo tentar predizer o comportamento da temperatura no brasil nos próximos anos."
   ]
  },
  {
   "cell_type": "markdown",
   "id": "b1f61d09-e2af-4656-af23-5236d12acf6d",
   "metadata": {},
   "source": [
    "# Conclusões\n",
    "\n",
    "Através desse projeto, foi utilizado bases de dados ambientes relevantes para responder perguntas atuais, como países e seus comportamentos de temperatura, desastres naturais e etc. Além disso, na última etapa, ficou claro como pode ser utilizado dados para prever comportamentos como feito com a temperatura do Brazil."
   ]
  },
  {
   "cell_type": "markdown",
   "id": "4e6ac62f-31a1-4d9b-98ae-719587c52828",
   "metadata": {},
   "source": [
    "Foi importante observar que os dados dependem de um contexto, olhar globalmente estes dados em grande parte dos objetivos não faz sentido, pois muitos comportamentos ambientais são locais e sentidos apenas nos países afetados, como desastres climáticos. "
   ]
  },
  {
   "cell_type": "code",
   "execution_count": null,
   "id": "44b4c255-474a-4380-9709-af38b089aa4e",
   "metadata": {},
   "outputs": [],
   "source": []
  }
 ],
 "metadata": {
  "kernelspec": {
   "display_name": "Python 3",
   "language": "python",
   "name": "python3"
  },
  "language_info": {
   "codemirror_mode": {
    "name": "ipython",
    "version": 3
   },
   "file_extension": ".py",
   "mimetype": "text/x-python",
   "name": "python",
   "nbconvert_exporter": "python",
   "pygments_lexer": "ipython3",
   "version": "3.11.9"
  }
 },
 "nbformat": 4,
 "nbformat_minor": 5
}
